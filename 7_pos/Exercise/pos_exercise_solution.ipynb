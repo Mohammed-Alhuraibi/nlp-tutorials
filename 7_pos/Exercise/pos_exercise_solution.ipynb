{
 "cells": [
  {
   "cell_type": "code",
   "execution_count": 1,
   "metadata": {},
   "outputs": [],
   "source": [
    "import spacy\n",
    "nlp = spacy.load(\"en_core_web_sm\")"
   ]
  },
  {
   "cell_type": "markdown",
   "metadata": {},
   "source": [
    "<h3>Read a new story</h3>"
   ]
  },
  {
   "cell_type": "code",
   "execution_count": 2,
   "metadata": {
    "scrolled": true
   },
   "outputs": [
    {
     "data": {
      "text/plain": [
       "'Inflation rose again in April, continuing a climb that has pushed consumers to the brink and is threatening the economic expansion, the Bureau of Labor Statistics reported Wednesday.\\n\\nThe consumer price index, a broad-based measure of prices for goods and services, increased 8.3% from a year ago, higher than the Dow Jones estimate for an 8.1% gain. That represented a slight ease from March’s peak but was still close to the highest level since the summer of 1982.\\n\\nRemoving volatile food and energ'"
      ]
     },
     "execution_count": 2,
     "metadata": {},
     "output_type": "execute_result"
    }
   ],
   "source": [
    "with open(\"../news_story.txt\",\"r\") as f:\n",
    "    news_text = f.read()\n",
    "    \n",
    "news_text[:500]"
   ]
  },
  {
   "cell_type": "markdown",
   "metadata": {},
   "source": [
    "<h3>Extract NOUN and NUM tokens</h3>"
   ]
  },
  {
   "cell_type": "code",
   "execution_count": 18,
   "metadata": {},
   "outputs": [],
   "source": [
    "doc = nlp(news_text)\n",
    "\n",
    "numTokens = []\n",
    "nounTokens = []\n",
    "\n",
    "for token in doc:\n",
    "    if token.pos_ in [\"NOUN\"]:\n",
    "#         print(token, \" | \", token.pos_, \" | \",token.tag_ , \" | \",  spacy.explain(token.tag_))\n",
    "        nounTokens.append(token)\n",
    "    elif token.pos_ in [\"NUM\"]:\n",
    "        numTokens.append(token)\n",
    "        \n",
    "        \n"
   ]
  },
  {
   "cell_type": "code",
   "execution_count": 19,
   "metadata": {
    "scrolled": true
   },
   "outputs": [
    {
     "data": {
      "text/plain": [
       "[8.3,\n",
       " 8.1,\n",
       " 1982,\n",
       " 6.2,\n",
       " 6,\n",
       " 0.3,\n",
       " 0.2,\n",
       " 0.6,\n",
       " 0.4,\n",
       " 0.1,\n",
       " 0.3,\n",
       " 2.6,\n",
       " 5.5,\n",
       " 2021,\n",
       " 1984,\n",
       " one,\n",
       " two,\n",
       " two,\n",
       " 2]"
      ]
     },
     "execution_count": 19,
     "metadata": {},
     "output_type": "execute_result"
    }
   ],
   "source": [
    "numTokens\n"
   ]
  },
  {
   "cell_type": "code",
   "execution_count": 20,
   "metadata": {
    "scrolled": true
   },
   "outputs": [
    {
     "data": {
      "text/plain": [
       "[Inflation,\n",
       " climb,\n",
       " consumers,\n",
       " brink,\n",
       " expansion,\n",
       " consumer,\n",
       " price,\n",
       " index,\n",
       " measure,\n",
       " prices,\n",
       " goods,\n",
       " services,\n",
       " %,\n",
       " year,\n",
       " estimate,\n",
       " %,\n",
       " gain,\n",
       " ease,\n",
       " peak,\n",
       " level,\n",
       " summer,\n",
       " food,\n",
       " energy,\n",
       " prices,\n",
       " core,\n",
       " %,\n",
       " expectations,\n",
       " %,\n",
       " gain,\n",
       " hopes,\n",
       " inflation,\n",
       " month,\n",
       " month,\n",
       " gains,\n",
       " expectations,\n",
       " %,\n",
       " headline,\n",
       " %,\n",
       " estimate,\n",
       " %,\n",
       " increase,\n",
       " core,\n",
       " outlook,\n",
       " %,\n",
       " gain,\n",
       " price,\n",
       " gains,\n",
       " workers,\n",
       " ground,\n",
       " wages,\n",
       " inflation,\n",
       " %,\n",
       " month,\n",
       " increase,\n",
       " %,\n",
       " earnings,\n",
       " year,\n",
       " earnings,\n",
       " %,\n",
       " earnings,\n",
       " %,\n",
       " Inflation,\n",
       " threat,\n",
       " recovery,\n",
       " pandemic,\n",
       " economy,\n",
       " stage,\n",
       " year,\n",
       " growth,\n",
       " level,\n",
       " prices,\n",
       " pump,\n",
       " grocery,\n",
       " stores,\n",
       " problem,\n",
       " inflation,\n",
       " areas,\n",
       " housing,\n",
       " auto,\n",
       " sales,\n",
       " host,\n",
       " areas,\n",
       " officials,\n",
       " problem,\n",
       " interest,\n",
       " rate,\n",
       " hikes,\n",
       " year,\n",
       " pledges,\n",
       " inflation,\n",
       " bank,\n",
       " %,\n",
       " goal,\n",
       " data,\n",
       " job,\n",
       " Credits]"
      ]
     },
     "execution_count": 20,
     "metadata": {},
     "output_type": "execute_result"
    }
   ],
   "source": [
    "nounTokens"
   ]
  },
  {
   "cell_type": "markdown",
   "metadata": {},
   "source": [
    "<h3>Print a count of all POS tags</h3>"
   ]
  },
  {
   "cell_type": "code",
   "execution_count": 58,
   "metadata": {},
   "outputs": [
    {
     "data": {
      "text/plain": [
       "{92: 96,\n",
       " 100: 27,\n",
       " 86: 15,\n",
       " 85: 39,\n",
       " 96: 16,\n",
       " 97: 32,\n",
       " 90: 34,\n",
       " 95: 4,\n",
       " 87: 13,\n",
       " 89: 10,\n",
       " 84: 23,\n",
       " 103: 7,\n",
       " 93: 19,\n",
       " 94: 4,\n",
       " 98: 8,\n",
       " 101: 1}"
      ]
     },
     "execution_count": 58,
     "metadata": {},
     "output_type": "execute_result"
    }
   ],
   "source": [
    "count = doc.count_by(spacy.attrs.POS)\n",
    "count"
   ]
  },
  {
   "cell_type": "code",
   "execution_count": 61,
   "metadata": {},
   "outputs": [
    {
     "name": "stdout",
     "output_type": "stream",
     "text": [
      "96  |  NOUN  |  96 noun 347\n",
      "27  |  VERB  |  27 verb 347\n",
      "15  |  ADV  |  15 adverb 347\n",
      "39  |  ADP  |  39 adposition 347\n",
      "16  |  PROPN  |  16 proper noun 347\n",
      "32  |  PUNCT  |  32 punctuation 347\n",
      "34  |  DET  |  34 determiner 347\n",
      "4  |  PRON  |  4 pronoun 347\n",
      "13  |  AUX  |  13 auxiliary 347\n",
      "10  |  CCONJ  |  10 coordinating conjunction 347\n",
      "23  |  ADJ  |  23 adjective 347\n",
      "7  |  SPACE  |  7 space 347\n",
      "19  |  NUM  |  19 numeral 347\n",
      "4  |  PART  |  4 particle 347\n",
      "8  |  SCONJ  |  8 subordinating conjunction 347\n",
      "1  |  X  |  1 other 347\n"
     ]
    },
    {
     "data": {
      "text/plain": [
       "cnbc.com"
      ]
     },
     "execution_count": 61,
     "metadata": {},
     "output_type": "execute_result"
    }
   ],
   "source": [
    "\n",
    "for k , v in count.items():\n",
    "    print(v, \" | \", doc.vocab[k].text, \" | \",v, spacy.explain(doc.vocab[k].text),)\n",
    "    \n",
    "doc[347:]"
   ]
  }
 ],
 "metadata": {
  "kernelspec": {
   "display_name": "Python 3 (ipykernel)",
   "language": "python",
   "name": "python3"
  },
  "language_info": {
   "codemirror_mode": {
    "name": "ipython",
    "version": 3
   },
   "file_extension": ".py",
   "mimetype": "text/x-python",
   "name": "python",
   "nbconvert_exporter": "python",
   "pygments_lexer": "ipython3",
   "version": "3.9.13"
  }
 },
 "nbformat": 4,
 "nbformat_minor": 4
}
